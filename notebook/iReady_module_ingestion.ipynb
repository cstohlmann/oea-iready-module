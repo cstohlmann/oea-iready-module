{
  "nbformat": 4,
  "nbformat_minor": 2,
  "metadata": {
    "kernelspec": {
      "name": "synapse_pyspark",
      "display_name": "Synapse PySpark"
    },
    "language_info": {
      "name": "python"
    },
    "description": null,
    "save_output": true,
    "synapse_widget": {
      "version": "0.1",
      "state": {}
    }
  },
  "cells": [
    {
      "cell_type": "markdown",
      "metadata": {
        "nteract": {
          "transient": {
            "deleting": false
          }
        }
      },
      "source": [
        "# iReady_module_ingestion.ipynb\r\n",
        "\r\n",
        "This notebook illustrates use of the OEA_py and iReady_py python classes for processing iReady Reports from Stage 1np to Stages 2p and 2np."
      ]
    },
    {
      "cell_type": "code",
      "execution_count": 1,
      "outputs": [
        {
          "output_type": "display_data",
          "data": {
            "application/vnd.livy.statement-meta+json": {
              "spark_pool": null,
              "session_id": "16",
              "statement_id": -1,
              "state": "finished",
              "livy_statement_state": "available",
              "queued_time": "2022-08-17T17:20:38.5287901Z",
              "session_start_time": null,
              "execution_start_time": "2022-08-17T17:26:10.499501Z",
              "execution_finish_time": "2022-08-17T17:26:10.4998922Z",
              "spark_jobs": null
            },
            "text/plain": "StatementMeta(, 16, -1, Finished, Available)"
          },
          "metadata": {}
        },
        {
          "output_type": "stream",
          "name": "stdout",
          "text": [
            "2022-08-17 17:26:09,646 - OEA - DEBUG - OEA initialized.\nOEA initialized.\n"
          ]
        }
      ],
      "metadata": {
        "jupyter": {
          "source_hidden": false,
          "outputs_hidden": false
        },
        "nteract": {
          "transient": {
            "deleting": false
          }
        }
      },
      "source": [
        "%run /OEA_py"
      ]
    },
    {
      "cell_type": "code",
      "execution_count": 2,
      "outputs": [
        {
          "output_type": "display_data",
          "data": {
            "application/vnd.livy.statement-meta+json": {
              "spark_pool": null,
              "session_id": "16",
              "statement_id": -1,
              "state": "finished",
              "livy_statement_state": "available",
              "queued_time": "2022-08-17T17:20:40.4306585Z",
              "session_start_time": null,
              "execution_start_time": "2022-08-17T17:26:11.505751Z",
              "execution_finish_time": "2022-08-17T17:26:11.5059704Z",
              "spark_jobs": null
            },
            "text/plain": "StatementMeta(, 16, -1, Finished, Available)"
          },
          "metadata": {}
        }
      ],
      "metadata": {
        "jupyter": {
          "source_hidden": false,
          "outputs_hidden": false
        },
        "nteract": {
          "transient": {
            "deleting": false
          }
        }
      },
      "source": [
        "%run /iReady_py"
      ]
    },
    {
      "cell_type": "code",
      "execution_count": 3,
      "outputs": [
        {
          "output_type": "display_data",
          "data": {
            "application/vnd.livy.statement-meta+json": {
              "spark_pool": "spark3p1sm",
              "session_id": "16",
              "statement_id": 4,
              "state": "finished",
              "livy_statement_state": "available",
              "queued_time": "2022-08-17T17:20:41.9324263Z",
              "session_start_time": null,
              "execution_start_time": "2022-08-17T17:26:11.6199944Z",
              "execution_finish_time": "2022-08-17T17:26:24.3710399Z",
              "spark_jobs": null
            },
            "text/plain": "StatementMeta(spark3p1sm, 16, 4, Finished, Available)"
          },
          "metadata": {}
        },
        {
          "output_type": "stream",
          "name": "stdout",
          "text": [
            "2022-08-17 17:26:23,558 - OEA - DEBUG - OEA initialized.\n2022-08-17 17:26:23,558 - OEA - DEBUG - OEA initialized.\nOEA initialized.\n"
          ]
        }
      ],
      "metadata": {
        "jupyter": {
          "source_hidden": false,
          "outputs_hidden": false
        },
        "nteract": {
          "transient": {
            "deleting": false
          }
        }
      },
      "source": [
        "oea = OEA()\r\n",
        "iready = iReady()"
      ]
    },
    {
      "cell_type": "code",
      "execution_count": 4,
      "outputs": [
        {
          "output_type": "display_data",
          "data": {
            "application/vnd.livy.statement-meta+json": {
              "spark_pool": "spark3p1sm",
              "session_id": "16",
              "statement_id": 5,
              "state": "finished",
              "livy_statement_state": "available",
              "queued_time": "2022-08-17T17:20:43.4970648Z",
              "session_start_time": null,
              "execution_start_time": "2022-08-17T17:26:24.5280831Z",
              "execution_finish_time": "2022-08-17T17:28:15.7731539Z",
              "spark_jobs": null
            },
            "text/plain": "StatementMeta(spark3p1sm, 16, 5, Finished, Available)"
          },
          "metadata": {}
        },
        {
          "output_type": "stream",
          "name": "stdout",
          "text": [
            "2022-08-17 17:26:24,527 - OEA - INFO - Processing iready data from: abfss://stage1np@stoeacisd3v06kw2.dfs.core.windows.net/iready\n2022-08-17 17:26:24,527 - OEA - INFO - Processing iready data from: abfss://stage1np@stoeacisd3v06kw2.dfs.core.windows.net/iready\nProcessing iready data from: abfss://stage1np@stoeacisd3v06kw2.dfs.core.windows.net/iready\n2022-08-17 17:26:24,577 - OEA - INFO - Processing incremental data from: abfss://stage1np@stoeacisd3v06kw2.dfs.core.windows.net/iready/comprehensive_student_lesson_activity_with_standards_ela and writing out to: abfss://stage2p@stoeacisd3v06kw2.dfs.core.windows.net/iready/comprehensive_student_lesson_activity_with_standards_ela_pseudo\n2022-08-17 17:26:24,577 - OEA - INFO - Processing incremental data from: abfss://stage1np@stoeacisd3v06kw2.dfs.core.windows.net/iready/comprehensive_student_lesson_activity_with_standards_ela and writing out to: abfss://stage2p@stoeacisd3v06kw2.dfs.core.windows.net/iready/comprehensive_student_lesson_activity_with_standards_ela_pseudo\nProcessing incremental data from: abfss://stage1np@stoeacisd3v06kw2.dfs.core.windows.net/iready/comprehensive_student_lesson_activity_with_standards_ela and writing out to: abfss://stage2p@stoeacisd3v06kw2.dfs.core.windows.net/iready/comprehensive_student_lesson_activity_with_standards_ela_pseudo\n2022-08-17 17:26:40,531 - OEA - INFO - Processing incremental data from: abfss://stage1np@stoeacisd3v06kw2.dfs.core.windows.net/iready/comprehensive_student_lesson_activity_with_standards_math and writing out to: abfss://stage2p@stoeacisd3v06kw2.dfs.core.windows.net/iready/comprehensive_student_lesson_activity_with_standards_math_pseudo\n2022-08-17 17:26:40,531 - OEA - INFO - Processing incremental data from: abfss://stage1np@stoeacisd3v06kw2.dfs.core.windows.net/iready/comprehensive_student_lesson_activity_with_standards_math and writing out to: abfss://stage2p@stoeacisd3v06kw2.dfs.core.windows.net/iready/comprehensive_student_lesson_activity_with_standards_math_pseudo\nProcessing incremental data from: abfss://stage1np@stoeacisd3v06kw2.dfs.core.windows.net/iready/comprehensive_student_lesson_activity_with_standards_math and writing out to: abfss://stage2p@stoeacisd3v06kw2.dfs.core.windows.net/iready/comprehensive_student_lesson_activity_with_standards_math_pseudo\n2022-08-17 17:26:53,120 - OEA - INFO - Processing snapshot data from: abfss://stage1np@stoeacisd3v06kw2.dfs.core.windows.net/iready/diagnostic_and_instruction_ela_ytd_window/2022-08-10T0144 and writing out to: abfss://stage2p@stoeacisd3v06kw2.dfs.core.windows.net/iready/diagnostic_and_instruction_ela_ytd_window_pseudo\n2022-08-17 17:26:53,120 - OEA - INFO - Processing snapshot data from: abfss://stage1np@stoeacisd3v06kw2.dfs.core.windows.net/iready/diagnostic_and_instruction_ela_ytd_window/2022-08-10T0144 and writing out to: abfss://stage2p@stoeacisd3v06kw2.dfs.core.windows.net/iready/diagnostic_and_instruction_ela_ytd_window_pseudo\nProcessing snapshot data from: abfss://stage1np@stoeacisd3v06kw2.dfs.core.windows.net/iready/diagnostic_and_instruction_ela_ytd_window/2022-08-10T0144 and writing out to: abfss://stage2p@stoeacisd3v06kw2.dfs.core.windows.net/iready/diagnostic_and_instruction_ela_ytd_window_pseudo\n2022-08-17 17:27:17,800 - OEA - INFO - Processing snapshot data from: abfss://stage1np@stoeacisd3v06kw2.dfs.core.windows.net/iready/diagnostic_and_instruction_math_ytd_window/2022-08-10T0144 and writing out to: abfss://stage2p@stoeacisd3v06kw2.dfs.core.windows.net/iready/diagnostic_and_instruction_math_ytd_window_pseudo\n2022-08-17 17:27:17,800 - OEA - INFO - Processing snapshot data from: abfss://stage1np@stoeacisd3v06kw2.dfs.core.windows.net/iready/diagnostic_and_instruction_math_ytd_window/2022-08-10T0144 and writing out to: abfss://stage2p@stoeacisd3v06kw2.dfs.core.windows.net/iready/diagnostic_and_instruction_math_ytd_window_pseudo\nProcessing snapshot data from: abfss://stage1np@stoeacisd3v06kw2.dfs.core.windows.net/iready/diagnostic_and_instruction_math_ytd_window/2022-08-10T0144 and writing out to: abfss://stage2p@stoeacisd3v06kw2.dfs.core.windows.net/iready/diagnostic_and_instruction_math_ytd_window_pseudo\n2022-08-17 17:27:34,218 - OEA - INFO - Processing incremental data from: abfss://stage1np@stoeacisd3v06kw2.dfs.core.windows.net/iready/diagnostic_results_ela and writing out to: abfss://stage2p@stoeacisd3v06kw2.dfs.core.windows.net/iready/diagnostic_results_ela_pseudo\n2022-08-17 17:27:34,218 - OEA - INFO - Processing incremental data from: abfss://stage1np@stoeacisd3v06kw2.dfs.core.windows.net/iready/diagnostic_results_ela and writing out to: abfss://stage2p@stoeacisd3v06kw2.dfs.core.windows.net/iready/diagnostic_results_ela_pseudo\nProcessing incremental data from: abfss://stage1np@stoeacisd3v06kw2.dfs.core.windows.net/iready/diagnostic_results_ela and writing out to: abfss://stage2p@stoeacisd3v06kw2.dfs.core.windows.net/iready/diagnostic_results_ela_pseudo\n2022-08-17 17:27:44,722 - OEA - INFO - Processing incremental data from: abfss://stage1np@stoeacisd3v06kw2.dfs.core.windows.net/iready/diagnostic_results_math and writing out to: abfss://stage2p@stoeacisd3v06kw2.dfs.core.windows.net/iready/diagnostic_results_math_pseudo\n2022-08-17 17:27:44,722 - OEA - INFO - Processing incremental data from: abfss://stage1np@stoeacisd3v06kw2.dfs.core.windows.net/iready/diagnostic_results_math and writing out to: abfss://stage2p@stoeacisd3v06kw2.dfs.core.windows.net/iready/diagnostic_results_math_pseudo\nProcessing incremental data from: abfss://stage1np@stoeacisd3v06kw2.dfs.core.windows.net/iready/diagnostic_results_math and writing out to: abfss://stage2p@stoeacisd3v06kw2.dfs.core.windows.net/iready/diagnostic_results_math_pseudo\n2022-08-17 17:27:54,793 - OEA - INFO - Processing incremental data from: abfss://stage1np@stoeacisd3v06kw2.dfs.core.windows.net/iready/personalized_instruction_by_lesson_ela and writing out to: abfss://stage2p@stoeacisd3v06kw2.dfs.core.windows.net/iready/personalized_instruction_by_lesson_ela_pseudo\n2022-08-17 17:27:54,793 - OEA - INFO - Processing incremental data from: abfss://stage1np@stoeacisd3v06kw2.dfs.core.windows.net/iready/personalized_instruction_by_lesson_ela and writing out to: abfss://stage2p@stoeacisd3v06kw2.dfs.core.windows.net/iready/personalized_instruction_by_lesson_ela_pseudo\nProcessing incremental data from: abfss://stage1np@stoeacisd3v06kw2.dfs.core.windows.net/iready/personalized_instruction_by_lesson_ela and writing out to: abfss://stage2p@stoeacisd3v06kw2.dfs.core.windows.net/iready/personalized_instruction_by_lesson_ela_pseudo\n2022-08-17 17:28:05,116 - OEA - INFO - Processing incremental data from: abfss://stage1np@stoeacisd3v06kw2.dfs.core.windows.net/iready/personalized_instruction_by_lesson_math and writing out to: abfss://stage2p@stoeacisd3v06kw2.dfs.core.windows.net/iready/personalized_instruction_by_lesson_math_pseudo\n2022-08-17 17:28:05,116 - OEA - INFO - Processing incremental data from: abfss://stage1np@stoeacisd3v06kw2.dfs.core.windows.net/iready/personalized_instruction_by_lesson_math and writing out to: abfss://stage2p@stoeacisd3v06kw2.dfs.core.windows.net/iready/personalized_instruction_by_lesson_math_pseudo\nProcessing incremental data from: abfss://stage1np@stoeacisd3v06kw2.dfs.core.windows.net/iready/personalized_instruction_by_lesson_math and writing out to: abfss://stage2p@stoeacisd3v06kw2.dfs.core.windows.net/iready/personalized_instruction_by_lesson_math_pseudo\n2022-08-17 17:28:14,988 - OEA - INFO - Finished processing iready data from stage 1 to stage 2\n2022-08-17 17:28:14,988 - OEA - INFO - Finished processing iready data from stage 1 to stage 2\nFinished processing iready data from stage 1 to stage 2\n"
          ]
        }
      ],
      "metadata": {
        "jupyter": {
          "source_hidden": false,
          "outputs_hidden": false
        },
        "nteract": {
          "transient": {
            "deleting": false
          }
        }
      },
      "source": [
        "iready.ingest()"
      ]
    }
  ]
}